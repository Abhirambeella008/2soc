{
 "cells": [
  {
   "cell_type": "code",
   "execution_count": 14,
   "id": "176f8d80",
   "metadata": {},
   "outputs": [
    {
     "name": "stdout",
     "output_type": "stream",
     "text": [
      "Requirement already satisfied: selenium in c:\\users\\user\\anaconda3\\lib\\site-packages (3.141.0)Note: you may need to restart the kernel to use updated packages.\n",
      "\n",
      "Requirement already satisfied: urllib3 in c:\\users\\user\\anaconda3\\lib\\site-packages (from selenium) (1.26.16)\n"
     ]
    }
   ],
   "source": [
    "pip install selenium"
   ]
  },
  {
   "cell_type": "code",
   "execution_count": 15,
   "id": "ee628b02",
   "metadata": {},
   "outputs": [
    {
     "name": "stdout",
     "output_type": "stream",
     "text": [
      "Requirement already satisfied: selenium==3.141.0 in c:\\users\\user\\anaconda3\\lib\\site-packages (3.141.0)\n",
      "Requirement already satisfied: urllib3 in c:\\users\\user\\anaconda3\\lib\\site-packages (from selenium==3.141.0) (1.26.16)\n",
      "Note: you may need to restart the kernel to use updated packages.\n"
     ]
    }
   ],
   "source": [
    "pip install selenium==3.141.0"
   ]
  },
  {
   "cell_type": "code",
   "execution_count": 16,
   "id": "3b3698c2",
   "metadata": {},
   "outputs": [
    {
     "name": "stdout",
     "output_type": "stream",
     "text": [
      "Requirement already satisfied: urllib3==1.26.16 in c:\\users\\user\\anaconda3\\lib\\site-packages (1.26.16)Note: you may need to restart the kernel to use updated packages.\n",
      "\n"
     ]
    }
   ],
   "source": [
    "pip install --upgrade urllib3==1.26.16"
   ]
  },
  {
   "cell_type": "code",
   "execution_count": 26,
   "id": "7b510852",
   "metadata": {},
   "outputs": [],
   "source": [
    "from selenium import webdriver\n",
    "from selenium.webdriver.chrome.service import Service\n",
    "from selenium.webdriver.common.by import By\n",
    "s = Service(r\"C:\\Users\\user\\OneDrive\\Desktop\\SOC-II\\soc-2(cd)\\chromedriver.exe\")\n",
    "driver = webdriver.Chrome(service=s)\n",
    "driver.get(\"https://stackoverflow.com/questions/77030802/attributeerror-str-object-has-no-attribute-capabilities\")"
   ]
  },
  {
   "cell_type": "code",
   "execution_count": 31,
   "id": "48dcdb18",
   "metadata": {},
   "outputs": [],
   "source": [
    "#To check the mail is spam or ham mail\n",
    "import numpy as np\n",
    "import pandas as pd\n",
    "import matplotlib.pyplot as plt\n",
    "from sklearn.model_selection import train_test_split\n",
    "from sklearn.linear_model import LogisticRegression\n",
    "from sklearn.metrics import accuracy_score"
   ]
  },
  {
   "cell_type": "code",
   "execution_count": 32,
   "id": "533ee974",
   "metadata": {},
   "outputs": [],
   "source": [
    "raw_mail_data=pd.read_csv(r\"C:\\Users\\user\\Downloads\\mail_data.csv\")"
   ]
  },
  {
   "cell_type": "code",
   "execution_count": 33,
   "id": "1cc4d9f2",
   "metadata": {},
   "outputs": [
    {
     "data": {
      "text/html": [
       "<div>\n",
       "<style scoped>\n",
       "    .dataframe tbody tr th:only-of-type {\n",
       "        vertical-align: middle;\n",
       "    }\n",
       "\n",
       "    .dataframe tbody tr th {\n",
       "        vertical-align: top;\n",
       "    }\n",
       "\n",
       "    .dataframe thead th {\n",
       "        text-align: right;\n",
       "    }\n",
       "</style>\n",
       "<table border=\"1\" class=\"dataframe\">\n",
       "  <thead>\n",
       "    <tr style=\"text-align: right;\">\n",
       "      <th></th>\n",
       "      <th>Category</th>\n",
       "      <th>Message</th>\n",
       "    </tr>\n",
       "  </thead>\n",
       "  <tbody>\n",
       "    <tr>\n",
       "      <th>0</th>\n",
       "      <td>ham</td>\n",
       "      <td>Go until jurong point, crazy.. Available only ...</td>\n",
       "    </tr>\n",
       "    <tr>\n",
       "      <th>1</th>\n",
       "      <td>ham</td>\n",
       "      <td>Ok lar... Joking wif u oni...</td>\n",
       "    </tr>\n",
       "    <tr>\n",
       "      <th>2</th>\n",
       "      <td>spam</td>\n",
       "      <td>Free entry in 2 a wkly comp to win FA Cup fina...</td>\n",
       "    </tr>\n",
       "    <tr>\n",
       "      <th>3</th>\n",
       "      <td>ham</td>\n",
       "      <td>U dun say so early hor... U c already then say...</td>\n",
       "    </tr>\n",
       "    <tr>\n",
       "      <th>4</th>\n",
       "      <td>ham</td>\n",
       "      <td>Nah I don't think he goes to usf, he lives aro...</td>\n",
       "    </tr>\n",
       "  </tbody>\n",
       "</table>\n",
       "</div>"
      ],
      "text/plain": [
       "  Category                                            Message\n",
       "0      ham  Go until jurong point, crazy.. Available only ...\n",
       "1      ham                      Ok lar... Joking wif u oni...\n",
       "2     spam  Free entry in 2 a wkly comp to win FA Cup fina...\n",
       "3      ham  U dun say so early hor... U c already then say...\n",
       "4      ham  Nah I don't think he goes to usf, he lives aro..."
      ]
     },
     "execution_count": 33,
     "metadata": {},
     "output_type": "execute_result"
    }
   ],
   "source": [
    "raw_mail_data.head()"
   ]
  },
  {
   "cell_type": "code",
   "execution_count": 34,
   "id": "dbfa1716",
   "metadata": {},
   "outputs": [
    {
     "data": {
      "text/plain": [
       "Category    0\n",
       "Message     0\n",
       "dtype: int64"
      ]
     },
     "execution_count": 34,
     "metadata": {},
     "output_type": "execute_result"
    }
   ],
   "source": [
    "#To check and NAN field in column\n",
    "raw_mail_data.isna().sum()"
   ]
  },
  {
   "cell_type": "code",
   "execution_count": 35,
   "id": "7596b84f",
   "metadata": {},
   "outputs": [
    {
     "data": {
      "text/plain": [
       "(5572, 2)"
      ]
     },
     "execution_count": 35,
     "metadata": {},
     "output_type": "execute_result"
    }
   ],
   "source": [
    "#To convert category field to numerical field\n",
    "raw_mail_data.shape"
   ]
  },
  {
   "cell_type": "code",
   "execution_count": 39,
   "id": "f6d279cb",
   "metadata": {},
   "outputs": [],
   "source": [
    "raw_mail_data.loc[raw_mail_data['Category']=='spam','Category']=0"
   ]
  },
  {
   "cell_type": "code",
   "execution_count": 40,
   "id": "12cd33c2",
   "metadata": {},
   "outputs": [
    {
     "data": {
      "text/plain": [
       "0       ham\n",
       "1       ham\n",
       "2         0\n",
       "3       ham\n",
       "4       ham\n",
       "       ... \n",
       "5567      0\n",
       "5568    ham\n",
       "5569    ham\n",
       "5570    ham\n",
       "5571    ham\n",
       "Name: Category, Length: 5572, dtype: object"
      ]
     },
     "execution_count": 40,
     "metadata": {},
     "output_type": "execute_result"
    }
   ],
   "source": [
    "raw_mail_data['Category']"
   ]
  },
  {
   "cell_type": "code",
   "execution_count": 41,
   "id": "0c1c4229",
   "metadata": {},
   "outputs": [],
   "source": [
    "raw_mail_data.loc[raw_mail_data['Category']=='ham','Category']=1"
   ]
  },
  {
   "cell_type": "code",
   "execution_count": 42,
   "id": "bc5f19b9",
   "metadata": {},
   "outputs": [
    {
     "data": {
      "text/plain": [
       "0       1\n",
       "1       1\n",
       "2       0\n",
       "3       1\n",
       "4       1\n",
       "       ..\n",
       "5567    0\n",
       "5568    1\n",
       "5569    1\n",
       "5570    1\n",
       "5571    1\n",
       "Name: Category, Length: 5572, dtype: object"
      ]
     },
     "execution_count": 42,
     "metadata": {},
     "output_type": "execute_result"
    }
   ],
   "source": [
    "raw_mail_data['Category']"
   ]
  },
  {
   "cell_type": "code",
   "execution_count": 43,
   "id": "1f69c050",
   "metadata": {},
   "outputs": [],
   "source": [
    "Y=raw_mail_data['Category']"
   ]
  },
  {
   "cell_type": "code",
   "execution_count": 44,
   "id": "01ee018b",
   "metadata": {},
   "outputs": [],
   "source": [
    "X=raw_mail_data['Message']"
   ]
  },
  {
   "cell_type": "code",
   "execution_count": 45,
   "id": "53b1a449",
   "metadata": {},
   "outputs": [
    {
     "data": {
      "text/plain": [
       "0       Go until jurong point, crazy.. Available only ...\n",
       "1                           Ok lar... Joking wif u oni...\n",
       "2       Free entry in 2 a wkly comp to win FA Cup fina...\n",
       "3       U dun say so early hor... U c already then say...\n",
       "4       Nah I don't think he goes to usf, he lives aro...\n",
       "                              ...                        \n",
       "5567    This is the 2nd time we have tried 2 contact u...\n",
       "5568                 Will ü b going to esplanade fr home?\n",
       "5569    Pity, * was in mood for that. So...any other s...\n",
       "5570    The guy did some bitching but I acted like i'd...\n",
       "5571                           Rofl. Its true to its name\n",
       "Name: Message, Length: 5572, dtype: object"
      ]
     },
     "execution_count": 45,
     "metadata": {},
     "output_type": "execute_result"
    }
   ],
   "source": [
    "X"
   ]
  },
  {
   "cell_type": "code",
   "execution_count": 46,
   "id": "a33a7b64",
   "metadata": {},
   "outputs": [],
   "source": [
    "#convert to train and test split\n",
    "x_train,x_test,y_train,y_test=train_test_split(X,Y,test_size=0.2)"
   ]
  },
  {
   "cell_type": "code",
   "execution_count": 47,
   "id": "bb9847bf",
   "metadata": {},
   "outputs": [
    {
     "data": {
      "text/plain": [
       "(4457,)"
      ]
     },
     "execution_count": 47,
     "metadata": {},
     "output_type": "execute_result"
    }
   ],
   "source": [
    "x_train.shape"
   ]
  },
  {
   "cell_type": "code",
   "execution_count": 48,
   "id": "3d918214",
   "metadata": {},
   "outputs": [
    {
     "data": {
      "text/plain": [
       "(1115,)"
      ]
     },
     "execution_count": 48,
     "metadata": {},
     "output_type": "execute_result"
    }
   ],
   "source": [
    "x_test.shape"
   ]
  },
  {
   "cell_type": "code",
   "execution_count": 49,
   "id": "e27b8ffb",
   "metadata": {},
   "outputs": [
    {
     "data": {
      "text/plain": [
       "(4457,)"
      ]
     },
     "execution_count": 49,
     "metadata": {},
     "output_type": "execute_result"
    }
   ],
   "source": [
    "y_train.shape"
   ]
  },
  {
   "cell_type": "code",
   "execution_count": 50,
   "id": "868a5d2a",
   "metadata": {},
   "outputs": [
    {
     "data": {
      "text/plain": [
       "(1115,)"
      ]
     },
     "execution_count": 50,
     "metadata": {},
     "output_type": "execute_result"
    }
   ],
   "source": [
    "y_test.shape"
   ]
  },
  {
   "cell_type": "code",
   "execution_count": 52,
   "id": "96797403",
   "metadata": {},
   "outputs": [],
   "source": [
    "from sklearn.feature_extraction.text import TfidfVectorizer"
   ]
  },
  {
   "cell_type": "code",
   "execution_count": 53,
   "id": "da669987",
   "metadata": {},
   "outputs": [],
   "source": [
    "#Term Frequency Inverse Document Frequency--> It is a numerical representation\n",
    "#of text document to capture the important words in a collection of document"
   ]
  },
  {
   "cell_type": "code",
   "execution_count": 54,
   "id": "69ee9442",
   "metadata": {},
   "outputs": [
    {
     "name": "stdout",
     "output_type": "stream",
     "text": [
      "  (0, 3727)\t0.3584908411282365\n",
      "  (0, 6826)\t0.11984451881623102\n",
      "  (0, 2949)\t0.1418538910845261\n",
      "  (0, 6815)\t0.23520214937656164\n",
      "  (0, 1574)\t0.16034022878151474\n",
      "  (0, 4468)\t0.3274925975740882\n",
      "  (0, 849)\t0.23178667245662737\n",
      "  (0, 5220)\t0.24378370948785494\n",
      "  (0, 7715)\t0.14485765137336504\n",
      "  (0, 3721)\t0.2714677695113578\n",
      "  (0, 6233)\t0.3894890846823849\n",
      "  (0, 1271)\t0.16600869336234428\n",
      "  (0, 7587)\t0.273094167371894\n",
      "  (0, 1188)\t0.23520214937656164\n",
      "  (0, 4793)\t0.17146532546137797\n",
      "  (0, 4907)\t0.21975096615169618\n",
      "  (0, 4183)\t0.23244921808953667\n",
      "  (1, 303)\t0.3479304431974342\n",
      "  (1, 4838)\t0.13884483920055718\n",
      "  (1, 231)\t0.3479304431974342\n",
      "  (1, 1605)\t0.13489226127021484\n",
      "  (1, 1821)\t0.19909173916543813\n",
      "  (1, 1979)\t0.21933872850859332\n",
      "  (1, 6943)\t0.17558204178280387\n",
      "  (1, 1130)\t0.25594386731354085\n",
      "  :\t:\n",
      "  (4455, 7439)\t0.25214920924227185\n",
      "  (4455, 2459)\t0.24041030846264358\n",
      "  (4455, 3308)\t0.23208142581144295\n",
      "  (4455, 2133)\t0.20279386815652573\n",
      "  (4455, 4259)\t0.17902509237278752\n",
      "  (4455, 2249)\t0.18020695817015708\n",
      "  (4455, 4661)\t0.40558773631305145\n",
      "  (4455, 4090)\t0.17098718394606865\n",
      "  (4455, 2868)\t0.17472808215179816\n",
      "  (4455, 6491)\t0.13219845023203436\n",
      "  (4455, 7398)\t0.28856816400367274\n",
      "  (4455, 5401)\t0.18697050330345552\n",
      "  (4455, 2523)\t0.34945616430359633\n",
      "  (4455, 4993)\t0.1885358408213577\n",
      "  (4455, 7184)\t0.17902509237278752\n",
      "  (4455, 1640)\t0.15895730894195867\n",
      "  (4455, 3209)\t0.12171170964652253\n",
      "  (4455, 7353)\t0.15516381909299848\n",
      "  (4455, 4938)\t0.12252273443321039\n",
      "  (4455, 6370)\t0.1633238867373994\n",
      "  (4456, 6711)\t0.7225750417440413\n",
      "  (4456, 5408)\t0.5007120650272728\n",
      "  (4456, 3525)\t0.32434614502427583\n",
      "  (4456, 1049)\t0.2947884596759035\n",
      "  (4456, 7710)\t0.18727541011708032\n"
     ]
    }
   ],
   "source": [
    "feature_extraction=TfidfVectorizer()\n",
    "x_train_feature=feature_extraction.fit_transform(x_train)\n",
    "print(x_train_feature)"
   ]
  },
  {
   "cell_type": "code",
   "execution_count": 55,
   "id": "f4949a61",
   "metadata": {},
   "outputs": [],
   "source": [
    "x_test_feature=feature_extraction.transform(x_test)"
   ]
  },
  {
   "cell_type": "code",
   "execution_count": 57,
   "id": "4307f5e6",
   "metadata": {},
   "outputs": [
    {
     "name": "stdout",
     "output_type": "stream",
     "text": [
      "  (0, 7725)\t0.2594669106159514\n",
      "  (0, 7710)\t0.07997856070366825\n",
      "  (0, 7581)\t0.18416562981745288\n",
      "  (0, 6943)\t0.07786341602297768\n",
      "  (0, 6037)\t0.2015668710315503\n",
      "  (0, 5721)\t0.2641981562541199\n",
      "  (0, 5418)\t0.37497957757239747\n",
      "  (0, 5002)\t0.1685863676882173\n",
      "  (0, 4967)\t0.12876360194843706\n",
      "  (0, 4929)\t0.12314395444483574\n",
      "  (0, 3364)\t0.11837729480028036\n",
      "  (0, 3272)\t0.20520408329370604\n",
      "  (0, 2129)\t0.1967277662219909\n",
      "  (0, 2020)\t0.20820009618190854\n",
      "  (0, 1821)\t0.17657800030088153\n",
      "  (0, 1674)\t0.1886709551762378\n",
      "  (0, 1605)\t0.11963834286145766\n",
      "  (0, 1336)\t0.22204915805219444\n",
      "  (0, 625)\t0.2696599785059421\n",
      "  (0, 336)\t0.2327594863760522\n",
      "  (0, 258)\t0.23073426600764552\n",
      "  (0, 256)\t0.284026300810095\n",
      "  (0, 249)\t0.21383603038331\n",
      "  (1, 7652)\t0.25113204589320526\n",
      "  (1, 7391)\t0.12459708324805394\n",
      "  :\t:\n",
      "  (1112, 6289)\t0.16585485127986324\n",
      "  (1112, 4765)\t0.26375201635553347\n",
      "  (1112, 4557)\t0.31968168577774814\n",
      "  (1112, 3129)\t0.3461687319443768\n",
      "  (1112, 3033)\t0.18807122720290573\n",
      "  (1112, 1628)\t0.1679088038747497\n",
      "  (1112, 1299)\t0.2567004226105686\n",
      "  (1112, 1236)\t0.3643557968550192\n",
      "  (1112, 1173)\t0.2972596612496449\n",
      "  (1112, 994)\t0.22245919525171445\n",
      "  (1112, 953)\t0.24740332271959123\n",
      "  (1113, 5260)\t0.5956326444207638\n",
      "  (1113, 3427)\t0.47575180162046643\n",
      "  (1113, 1925)\t0.647210920917755\n",
      "  (1114, 4971)\t0.2560217070511941\n",
      "  (1114, 4967)\t0.14846386928947658\n",
      "  (1114, 4929)\t0.2839688806439025\n",
      "  (1114, 4802)\t0.22952080807126576\n",
      "  (1114, 4596)\t0.28615454680548813\n",
      "  (1114, 4542)\t0.27630244807276155\n",
      "  (1114, 2993)\t0.5165897589077305\n",
      "  (1114, 1988)\t0.31091677458309247\n",
      "  (1114, 1605)\t0.2758849710294024\n",
      "  (1114, 402)\t0.3183650854921437\n",
      "  (1114, 49)\t0.2825999052159813\n"
     ]
    }
   ],
   "source": [
    "print(x_test_feature)"
   ]
  },
  {
   "cell_type": "code",
   "execution_count": 59,
   "id": "719ce80f",
   "metadata": {},
   "outputs": [
    {
     "data": {
      "text/plain": [
       "dtype('O')"
      ]
     },
     "execution_count": 59,
     "metadata": {},
     "output_type": "execute_result"
    }
   ],
   "source": [
    "#Check the type of Y_train and y_test\n",
    "y_train.dtype"
   ]
  },
  {
   "cell_type": "code",
   "execution_count": 60,
   "id": "725b11dd",
   "metadata": {},
   "outputs": [],
   "source": [
    "y_train=y_train.astype('int')\n",
    "y_test=y_test.astype('int')"
   ]
  },
  {
   "cell_type": "code",
   "execution_count": 61,
   "id": "fda0cbc1",
   "metadata": {},
   "outputs": [
    {
     "data": {
      "text/plain": [
       "dtype('int32')"
      ]
     },
     "execution_count": 61,
     "metadata": {},
     "output_type": "execute_result"
    }
   ],
   "source": [
    "y_train.dtype"
   ]
  },
  {
   "cell_type": "code",
   "execution_count": 62,
   "id": "e033660d",
   "metadata": {},
   "outputs": [
    {
     "data": {
      "text/plain": [
       "dtype('int32')"
      ]
     },
     "execution_count": 62,
     "metadata": {},
     "output_type": "execute_result"
    }
   ],
   "source": [
    "y_test.dtype"
   ]
  },
  {
   "cell_type": "code",
   "execution_count": 63,
   "id": "5eb6d40a",
   "metadata": {},
   "outputs": [],
   "source": [
    "#Create instance for Logistic Regression\n",
    "model=LogisticRegression()"
   ]
  },
  {
   "cell_type": "code",
   "execution_count": 64,
   "id": "595f3509",
   "metadata": {},
   "outputs": [
    {
     "data": {
      "text/html": [
       "<style>#sk-container-id-1 {color: black;}#sk-container-id-1 pre{padding: 0;}#sk-container-id-1 div.sk-toggleable {background-color: white;}#sk-container-id-1 label.sk-toggleable__label {cursor: pointer;display: block;width: 100%;margin-bottom: 0;padding: 0.3em;box-sizing: border-box;text-align: center;}#sk-container-id-1 label.sk-toggleable__label-arrow:before {content: \"▸\";float: left;margin-right: 0.25em;color: #696969;}#sk-container-id-1 label.sk-toggleable__label-arrow:hover:before {color: black;}#sk-container-id-1 div.sk-estimator:hover label.sk-toggleable__label-arrow:before {color: black;}#sk-container-id-1 div.sk-toggleable__content {max-height: 0;max-width: 0;overflow: hidden;text-align: left;background-color: #f0f8ff;}#sk-container-id-1 div.sk-toggleable__content pre {margin: 0.2em;color: black;border-radius: 0.25em;background-color: #f0f8ff;}#sk-container-id-1 input.sk-toggleable__control:checked~div.sk-toggleable__content {max-height: 200px;max-width: 100%;overflow: auto;}#sk-container-id-1 input.sk-toggleable__control:checked~label.sk-toggleable__label-arrow:before {content: \"▾\";}#sk-container-id-1 div.sk-estimator input.sk-toggleable__control:checked~label.sk-toggleable__label {background-color: #d4ebff;}#sk-container-id-1 div.sk-label input.sk-toggleable__control:checked~label.sk-toggleable__label {background-color: #d4ebff;}#sk-container-id-1 input.sk-hidden--visually {border: 0;clip: rect(1px 1px 1px 1px);clip: rect(1px, 1px, 1px, 1px);height: 1px;margin: -1px;overflow: hidden;padding: 0;position: absolute;width: 1px;}#sk-container-id-1 div.sk-estimator {font-family: monospace;background-color: #f0f8ff;border: 1px dotted black;border-radius: 0.25em;box-sizing: border-box;margin-bottom: 0.5em;}#sk-container-id-1 div.sk-estimator:hover {background-color: #d4ebff;}#sk-container-id-1 div.sk-parallel-item::after {content: \"\";width: 100%;border-bottom: 1px solid gray;flex-grow: 1;}#sk-container-id-1 div.sk-label:hover label.sk-toggleable__label {background-color: #d4ebff;}#sk-container-id-1 div.sk-serial::before {content: \"\";position: absolute;border-left: 1px solid gray;box-sizing: border-box;top: 0;bottom: 0;left: 50%;z-index: 0;}#sk-container-id-1 div.sk-serial {display: flex;flex-direction: column;align-items: center;background-color: white;padding-right: 0.2em;padding-left: 0.2em;position: relative;}#sk-container-id-1 div.sk-item {position: relative;z-index: 1;}#sk-container-id-1 div.sk-parallel {display: flex;align-items: stretch;justify-content: center;background-color: white;position: relative;}#sk-container-id-1 div.sk-item::before, #sk-container-id-1 div.sk-parallel-item::before {content: \"\";position: absolute;border-left: 1px solid gray;box-sizing: border-box;top: 0;bottom: 0;left: 50%;z-index: -1;}#sk-container-id-1 div.sk-parallel-item {display: flex;flex-direction: column;z-index: 1;position: relative;background-color: white;}#sk-container-id-1 div.sk-parallel-item:first-child::after {align-self: flex-end;width: 50%;}#sk-container-id-1 div.sk-parallel-item:last-child::after {align-self: flex-start;width: 50%;}#sk-container-id-1 div.sk-parallel-item:only-child::after {width: 0;}#sk-container-id-1 div.sk-dashed-wrapped {border: 1px dashed gray;margin: 0 0.4em 0.5em 0.4em;box-sizing: border-box;padding-bottom: 0.4em;background-color: white;}#sk-container-id-1 div.sk-label label {font-family: monospace;font-weight: bold;display: inline-block;line-height: 1.2em;}#sk-container-id-1 div.sk-label-container {text-align: center;}#sk-container-id-1 div.sk-container {/* jupyter's `normalize.less` sets `[hidden] { display: none; }` but bootstrap.min.css set `[hidden] { display: none !important; }` so we also need the `!important` here to be able to override the default hidden behavior on the sphinx rendered scikit-learn.org. See: https://github.com/scikit-learn/scikit-learn/issues/21755 */display: inline-block !important;position: relative;}#sk-container-id-1 div.sk-text-repr-fallback {display: none;}</style><div id=\"sk-container-id-1\" class=\"sk-top-container\"><div class=\"sk-text-repr-fallback\"><pre>LogisticRegression()</pre><b>In a Jupyter environment, please rerun this cell to show the HTML representation or trust the notebook. <br />On GitHub, the HTML representation is unable to render, please try loading this page with nbviewer.org.</b></div><div class=\"sk-container\" hidden><div class=\"sk-item\"><div class=\"sk-estimator sk-toggleable\"><input class=\"sk-toggleable__control sk-hidden--visually\" id=\"sk-estimator-id-1\" type=\"checkbox\" checked><label for=\"sk-estimator-id-1\" class=\"sk-toggleable__label sk-toggleable__label-arrow\">LogisticRegression</label><div class=\"sk-toggleable__content\"><pre>LogisticRegression()</pre></div></div></div></div></div>"
      ],
      "text/plain": [
       "LogisticRegression()"
      ]
     },
     "execution_count": 64,
     "metadata": {},
     "output_type": "execute_result"
    }
   ],
   "source": [
    "model"
   ]
  },
  {
   "cell_type": "code",
   "execution_count": 66,
   "id": "cfd0dac6",
   "metadata": {},
   "outputs": [
    {
     "data": {
      "text/html": [
       "<style>#sk-container-id-2 {color: black;}#sk-container-id-2 pre{padding: 0;}#sk-container-id-2 div.sk-toggleable {background-color: white;}#sk-container-id-2 label.sk-toggleable__label {cursor: pointer;display: block;width: 100%;margin-bottom: 0;padding: 0.3em;box-sizing: border-box;text-align: center;}#sk-container-id-2 label.sk-toggleable__label-arrow:before {content: \"▸\";float: left;margin-right: 0.25em;color: #696969;}#sk-container-id-2 label.sk-toggleable__label-arrow:hover:before {color: black;}#sk-container-id-2 div.sk-estimator:hover label.sk-toggleable__label-arrow:before {color: black;}#sk-container-id-2 div.sk-toggleable__content {max-height: 0;max-width: 0;overflow: hidden;text-align: left;background-color: #f0f8ff;}#sk-container-id-2 div.sk-toggleable__content pre {margin: 0.2em;color: black;border-radius: 0.25em;background-color: #f0f8ff;}#sk-container-id-2 input.sk-toggleable__control:checked~div.sk-toggleable__content {max-height: 200px;max-width: 100%;overflow: auto;}#sk-container-id-2 input.sk-toggleable__control:checked~label.sk-toggleable__label-arrow:before {content: \"▾\";}#sk-container-id-2 div.sk-estimator input.sk-toggleable__control:checked~label.sk-toggleable__label {background-color: #d4ebff;}#sk-container-id-2 div.sk-label input.sk-toggleable__control:checked~label.sk-toggleable__label {background-color: #d4ebff;}#sk-container-id-2 input.sk-hidden--visually {border: 0;clip: rect(1px 1px 1px 1px);clip: rect(1px, 1px, 1px, 1px);height: 1px;margin: -1px;overflow: hidden;padding: 0;position: absolute;width: 1px;}#sk-container-id-2 div.sk-estimator {font-family: monospace;background-color: #f0f8ff;border: 1px dotted black;border-radius: 0.25em;box-sizing: border-box;margin-bottom: 0.5em;}#sk-container-id-2 div.sk-estimator:hover {background-color: #d4ebff;}#sk-container-id-2 div.sk-parallel-item::after {content: \"\";width: 100%;border-bottom: 1px solid gray;flex-grow: 1;}#sk-container-id-2 div.sk-label:hover label.sk-toggleable__label {background-color: #d4ebff;}#sk-container-id-2 div.sk-serial::before {content: \"\";position: absolute;border-left: 1px solid gray;box-sizing: border-box;top: 0;bottom: 0;left: 50%;z-index: 0;}#sk-container-id-2 div.sk-serial {display: flex;flex-direction: column;align-items: center;background-color: white;padding-right: 0.2em;padding-left: 0.2em;position: relative;}#sk-container-id-2 div.sk-item {position: relative;z-index: 1;}#sk-container-id-2 div.sk-parallel {display: flex;align-items: stretch;justify-content: center;background-color: white;position: relative;}#sk-container-id-2 div.sk-item::before, #sk-container-id-2 div.sk-parallel-item::before {content: \"\";position: absolute;border-left: 1px solid gray;box-sizing: border-box;top: 0;bottom: 0;left: 50%;z-index: -1;}#sk-container-id-2 div.sk-parallel-item {display: flex;flex-direction: column;z-index: 1;position: relative;background-color: white;}#sk-container-id-2 div.sk-parallel-item:first-child::after {align-self: flex-end;width: 50%;}#sk-container-id-2 div.sk-parallel-item:last-child::after {align-self: flex-start;width: 50%;}#sk-container-id-2 div.sk-parallel-item:only-child::after {width: 0;}#sk-container-id-2 div.sk-dashed-wrapped {border: 1px dashed gray;margin: 0 0.4em 0.5em 0.4em;box-sizing: border-box;padding-bottom: 0.4em;background-color: white;}#sk-container-id-2 div.sk-label label {font-family: monospace;font-weight: bold;display: inline-block;line-height: 1.2em;}#sk-container-id-2 div.sk-label-container {text-align: center;}#sk-container-id-2 div.sk-container {/* jupyter's `normalize.less` sets `[hidden] { display: none; }` but bootstrap.min.css set `[hidden] { display: none !important; }` so we also need the `!important` here to be able to override the default hidden behavior on the sphinx rendered scikit-learn.org. See: https://github.com/scikit-learn/scikit-learn/issues/21755 */display: inline-block !important;position: relative;}#sk-container-id-2 div.sk-text-repr-fallback {display: none;}</style><div id=\"sk-container-id-2\" class=\"sk-top-container\"><div class=\"sk-text-repr-fallback\"><pre>LogisticRegression()</pre><b>In a Jupyter environment, please rerun this cell to show the HTML representation or trust the notebook. <br />On GitHub, the HTML representation is unable to render, please try loading this page with nbviewer.org.</b></div><div class=\"sk-container\" hidden><div class=\"sk-item\"><div class=\"sk-estimator sk-toggleable\"><input class=\"sk-toggleable__control sk-hidden--visually\" id=\"sk-estimator-id-2\" type=\"checkbox\" checked><label for=\"sk-estimator-id-2\" class=\"sk-toggleable__label sk-toggleable__label-arrow\">LogisticRegression</label><div class=\"sk-toggleable__content\"><pre>LogisticRegression()</pre></div></div></div></div></div>"
      ],
      "text/plain": [
       "LogisticRegression()"
      ]
     },
     "execution_count": 66,
     "metadata": {},
     "output_type": "execute_result"
    }
   ],
   "source": [
    "#Process of traing the model\n",
    "model.fit(x_train_feature,y_train)"
   ]
  },
  {
   "cell_type": "code",
   "execution_count": 67,
   "id": "7c9de8b2",
   "metadata": {},
   "outputs": [],
   "source": [
    "#process of testing the model\n",
    "prediction=model.predict(x_test_feature)"
   ]
  },
  {
   "cell_type": "code",
   "execution_count": 68,
   "id": "e3ef019c",
   "metadata": {},
   "outputs": [
    {
     "data": {
      "text/plain": [
       "array([0, 1, 1, ..., 1, 1, 0])"
      ]
     },
     "execution_count": 68,
     "metadata": {},
     "output_type": "execute_result"
    }
   ],
   "source": [
    "prediction"
   ]
  },
  {
   "cell_type": "code",
   "execution_count": 69,
   "id": "479509dd",
   "metadata": {},
   "outputs": [],
   "source": [
    "acc=(accuracy_score(prediction,y_test))"
   ]
  },
  {
   "cell_type": "code",
   "execution_count": 70,
   "id": "52597440",
   "metadata": {},
   "outputs": [
    {
     "name": "stdout",
     "output_type": "stream",
     "text": [
      "The accuracy of the above model is= 0.9632286995515695\n"
     ]
    }
   ],
   "source": [
    "print(\"The accuracy of the above model is=\",acc)"
   ]
  },
  {
   "cell_type": "code",
   "execution_count": 71,
   "id": "5c3dc9eb",
   "metadata": {},
   "outputs": [
    {
     "data": {
      "text/plain": [
       "\"They don't put that stuff on the roads to keep it from getting slippery over there?\""
      ]
     },
     "execution_count": 71,
     "metadata": {},
     "output_type": "execute_result"
    }
   ],
   "source": [
    "#--->Real time verification\n",
    "#input mail[\"\"]\n",
    "raw_mail_data['Message'][467]"
   ]
  },
  {
   "cell_type": "code",
   "execution_count": 72,
   "id": "40aee94b",
   "metadata": {},
   "outputs": [
    {
     "data": {
      "text/plain": [
       "1"
      ]
     },
     "execution_count": 72,
     "metadata": {},
     "output_type": "execute_result"
    }
   ],
   "source": [
    "raw_mail_data['Category'][467]"
   ]
  },
  {
   "cell_type": "code",
   "execution_count": 73,
   "id": "f6eff9c4",
   "metadata": {},
   "outputs": [],
   "source": [
    "input_mail=[\"They don't put that stuff on the roads to keep it from getting slippery over there?\"]"
   ]
  },
  {
   "cell_type": "code",
   "execution_count": 75,
   "id": "08020ccb",
   "metadata": {},
   "outputs": [
    {
     "name": "stdout",
     "output_type": "stream",
     "text": [
      "  (0, 6943)\t0.10620159340627724\n",
      "  (0, 6853)\t0.23381113799377692\n",
      "  (0, 6845)\t0.20479379053681365\n",
      "  (0, 6826)\t0.12950789621686035\n",
      "  (0, 6822)\t0.16376760303881185\n",
      "  (0, 6551)\t0.2812116581845528\n",
      "  (0, 6237)\t0.4208946095732055\n",
      "  (0, 5802)\t0.3873968964631762\n",
      "  (0, 5504)\t0.2951144652652995\n",
      "  (0, 5021)\t0.2653360472038984\n",
      "  (0, 4929)\t0.1679618599899624\n",
      "  (0, 3910)\t0.2598592135760331\n",
      "  (0, 3763)\t0.15425274849751078\n",
      "  (0, 3135)\t0.2773434354846753\n",
      "  (0, 3033)\t0.19439810621001596\n",
      "  (0, 2409)\t0.22466564279441875\n"
     ]
    }
   ],
   "source": [
    "input_data_feature=feature_extraction.transform(input_mail)\n",
    "print(input_data_feature)"
   ]
  },
  {
   "cell_type": "code",
   "execution_count": 81,
   "id": "694a9996",
   "metadata": {},
   "outputs": [
    {
     "data": {
      "text/plain": [
       "array([1])"
      ]
     },
     "execution_count": 81,
     "metadata": {},
     "output_type": "execute_result"
    }
   ],
   "source": [
    "prediction=model.predict(input_data_feature)\n",
    "prediction"
   ]
  },
  {
   "cell_type": "code",
   "execution_count": 80,
   "id": "cd007425",
   "metadata": {},
   "outputs": [
    {
     "name": "stdout",
     "output_type": "stream",
     "text": [
      "Its Ham mail\n"
     ]
    }
   ],
   "source": [
    "prediction=model.predict(input_data_feature)\n",
    "if prediction[0]==1:\n",
    "    print(\"Its Ham mail\")\n",
    "else:\n",
    "    print(\"Its Spam mail\")"
   ]
  },
  {
   "cell_type": "code",
   "execution_count": null,
   "id": "9019dc72",
   "metadata": {},
   "outputs": [],
   "source": []
  },
  {
   "cell_type": "code",
   "execution_count": null,
   "id": "3e92103d",
   "metadata": {},
   "outputs": [],
   "source": []
  }
 ],
 "metadata": {
  "kernelspec": {
   "display_name": "Python 3 (ipykernel)",
   "language": "python",
   "name": "python3"
  },
  "language_info": {
   "codemirror_mode": {
    "name": "ipython",
    "version": 3
   },
   "file_extension": ".py",
   "mimetype": "text/x-python",
   "name": "python",
   "nbconvert_exporter": "python",
   "pygments_lexer": "ipython3",
   "version": "3.11.5"
  }
 },
 "nbformat": 4,
 "nbformat_minor": 5
}
